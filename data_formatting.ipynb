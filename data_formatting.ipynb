{
 "cells": [
  {
   "cell_type": "code",
   "execution_count": 4,
   "id": "initial_id",
   "metadata": {
    "collapsed": true,
    "ExecuteTime": {
     "end_time": "2024-11-11T23:46:14.618830Z",
     "start_time": "2024-11-11T23:46:14.587888Z"
    }
   },
   "outputs": [],
   "source": [
    "from datasets import load_dataset, load_from_disk\n",
    "from transformers import MBartForConditionalGeneration, MBart50Tokenizer\n",
    "import aiohttp"
   ]
  },
  {
   "cell_type": "markdown",
   "source": [
    "Only uncomment loading and saving if we want to overwrite dataset.hf"
   ],
   "metadata": {
    "collapsed": false
   },
   "id": "18c2235f82fa05b5"
  },
  {
   "cell_type": "code",
   "outputs": [],
   "source": [
    "# dataset = load_dataset(\"open_subtitles\", lang1=\"en\", lang2=\"es\", trust_remote_code=True,\n",
    "#            storage_options={'client_kwargs': {'timeout': aiohttp.ClientTimeout(total=3600)}}, num_proc= 8, split=None)"
   ],
   "metadata": {
    "collapsed": false,
    "ExecuteTime": {
     "end_time": "2024-11-11T23:46:14.619529Z",
     "start_time": "2024-11-11T23:46:14.600097Z"
    }
   },
   "id": "e06b290a10973d74",
   "execution_count": 5
  },
  {
   "cell_type": "code",
   "outputs": [],
   "source": [
    "# dataset.save_to_disk(\"dataset.hf\")"
   ],
   "metadata": {
    "collapsed": false,
    "ExecuteTime": {
     "end_time": "2024-11-11T23:46:14.620375Z",
     "start_time": "2024-11-11T23:46:14.606199Z"
    }
   },
   "id": "c22cce59dccd01b",
   "execution_count": 6
  },
  {
   "cell_type": "code",
   "outputs": [],
   "source": [
    "dataset = load_from_disk(\"dataset.hf\")\n",
    "split_dataset = dataset[\"train\"].train_test_split(train_size=0.8, seed=20)"
   ],
   "metadata": {
    "collapsed": false,
    "ExecuteTime": {
     "end_time": "2024-11-11T23:46:24.388059Z",
     "start_time": "2024-11-11T23:46:14.619913Z"
    }
   },
   "id": "27cc5fc063f20969",
   "execution_count": 7
  },
  {
   "cell_type": "code",
   "outputs": [],
   "source": [
    "tokenizer = MBart50Tokenizer.from_pretrained(\"facebook/mbart-large-50\", src_lang=\"en_XX\", tgt_lang=\"es_XX\")"
   ],
   "metadata": {
    "collapsed": false,
    "ExecuteTime": {
     "end_time": "2024-11-11T23:46:25.368575Z",
     "start_time": "2024-11-11T23:46:24.385968Z"
    }
   },
   "id": "cf3de26e13381422",
   "execution_count": 8
  },
  {
   "cell_type": "code",
   "outputs": [],
   "source": [
    "max_length = 512\n",
    "\n",
    "def preprocess_text(text):\n",
    "    inputs = [txt[\"en\"] for txt in text[\"translation\"]]\n",
    "    targets = [txt[\"es\"] for txt in text[\"translation\"]]\n",
    "    model_inputs = tokenizer(\n",
    "        inputs, text_target=targets, max_length=max_length, truncation=True\n",
    "    )\n",
    "    return model_inputs"
   ],
   "metadata": {
    "collapsed": false,
    "ExecuteTime": {
     "end_time": "2024-11-11T23:46:25.374750Z",
     "start_time": "2024-11-11T23:46:25.370458Z"
    }
   },
   "id": "a0c4838f018e9f50",
   "execution_count": 9
  },
  {
   "cell_type": "code",
   "outputs": [
    {
     "data": {
      "text/plain": "Map:   0%|          | 0/49147400 [00:00<?, ? examples/s]",
      "application/vnd.jupyter.widget-view+json": {
       "version_major": 2,
       "version_minor": 0,
       "model_id": "71342c3575f44ee19b8d5383eb932865"
      }
     },
     "metadata": {},
     "output_type": "display_data"
    },
    {
     "data": {
      "text/plain": "Map:   0%|          | 0/12286851 [00:00<?, ? examples/s]",
      "application/vnd.jupyter.widget-view+json": {
       "version_major": 2,
       "version_minor": 0,
       "model_id": "810663f69e80409ba06901b3ac5e64ba"
      }
     },
     "metadata": {},
     "output_type": "display_data"
    }
   ],
   "source": [
    "tokenized_datasets = split_dataset.map(\n",
    "    preprocess_text,\n",
    "    batched=True,\n",
    "    remove_columns=split_dataset[\"train\"].column_names,\n",
    ")"
   ],
   "metadata": {
    "collapsed": false,
    "ExecuteTime": {
     "end_time": "2024-11-12T01:55:34.313998Z",
     "start_time": "2024-11-11T23:46:25.372850Z"
    }
   },
   "id": "ab3152e3bbd659d",
   "execution_count": 10
  },
  {
   "cell_type": "code",
   "outputs": [
    {
     "data": {
      "text/plain": "Saving the dataset (0/16 shards):   0%|          | 0/49147400 [00:00<?, ? examples/s]",
      "application/vnd.jupyter.widget-view+json": {
       "version_major": 2,
       "version_minor": 0,
       "model_id": "f26001f8cf2b4214adccacad8edfefb4"
      }
     },
     "metadata": {},
     "output_type": "display_data"
    },
    {
     "data": {
      "text/plain": "Saving the dataset (0/4 shards):   0%|          | 0/12286851 [00:00<?, ? examples/s]",
      "application/vnd.jupyter.widget-view+json": {
       "version_major": 2,
       "version_minor": 0,
       "model_id": "70103237347c4269a6085fd18fecbe9d"
      }
     },
     "metadata": {},
     "output_type": "display_data"
    }
   ],
   "source": [
    "tokenized_datasets.save_to_disk(\"tokenized_dataset.hf\")"
   ],
   "metadata": {
    "collapsed": false,
    "ExecuteTime": {
     "end_time": "2024-11-12T01:56:55.882515Z",
     "start_time": "2024-11-12T01:55:34.311540Z"
    }
   },
   "id": "b04d5e51b3a51d02",
   "execution_count": 11
  }
 ],
 "metadata": {
  "kernelspec": {
   "display_name": "Python 3",
   "language": "python",
   "name": "python3"
  },
  "language_info": {
   "codemirror_mode": {
    "name": "ipython",
    "version": 2
   },
   "file_extension": ".py",
   "mimetype": "text/x-python",
   "name": "python",
   "nbconvert_exporter": "python",
   "pygments_lexer": "ipython2",
   "version": "2.7.6"
  }
 },
 "nbformat": 4,
 "nbformat_minor": 5
}
