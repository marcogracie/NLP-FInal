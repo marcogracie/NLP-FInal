{
 "cells": [
  {
   "cell_type": "code",
   "execution_count": 1,
   "id": "initial_id",
   "metadata": {
    "collapsed": true,
    "ExecuteTime": {
     "end_time": "2024-11-21T04:25:20.583148Z",
     "start_time": "2024-11-21T04:25:12.556681Z"
    }
   },
   "outputs": [],
   "source": [
    "from datasets import load_dataset, load_from_disk\n",
    "from transformers import MBartForConditionalGeneration, MBart50Tokenizer\n",
    "import aiohttp"
   ]
  },
  {
   "cell_type": "markdown",
   "source": [
    "Only uncomment loading and saving if we want to overwrite dataset.hf"
   ],
   "metadata": {
    "collapsed": false
   },
   "id": "18c2235f82fa05b5"
  },
  {
   "cell_type": "code",
   "outputs": [],
   "source": [
    "# dataset = load_dataset(\"open_subtitles\", lang1=\"en\", lang2=\"es\", trust_remote_code=True,\n",
    "#            storage_options={'client_kwargs': {'timeout': aiohttp.ClientTimeout(total=3600)}}, num_proc= 8, split=None)"
   ],
   "metadata": {
    "collapsed": false,
    "ExecuteTime": {
     "end_time": "2024-11-21T04:25:20.584627Z",
     "start_time": "2024-11-21T04:25:20.575082Z"
    }
   },
   "id": "e06b290a10973d74",
   "execution_count": 2
  },
  {
   "cell_type": "code",
   "outputs": [],
   "source": [
    "# dataset.save_to_disk(\"dataset.hf\")"
   ],
   "metadata": {
    "collapsed": false,
    "ExecuteTime": {
     "end_time": "2024-11-21T04:25:20.584928Z",
     "start_time": "2024-11-21T04:25:20.576031Z"
    }
   },
   "id": "c22cce59dccd01b",
   "execution_count": 3
  },
  {
   "cell_type": "code",
   "outputs": [],
   "source": [
    "dataset = load_from_disk(\"dataset.hf\")\n",
    "split_dataset = dataset[\"train\"].train_test_split(train_size=0.8, seed=20)"
   ],
   "metadata": {
    "collapsed": false,
    "ExecuteTime": {
     "end_time": "2024-11-21T04:25:41.183145Z",
     "start_time": "2024-11-21T04:25:20.582898Z"
    }
   },
   "id": "27cc5fc063f20969",
   "execution_count": 4
  },
  {
   "cell_type": "markdown",
   "source": [
    "Only uncomment if we want to retrain the Mbart tokenizer"
   ],
   "metadata": {
    "collapsed": false
   },
   "id": "4d07674210119d31"
  },
  {
   "cell_type": "code",
   "outputs": [],
   "source": [
    "# tokenizer = MBart50Tokenizer.from_pretrained(\"facebook/mbart-large-50\", src_lang=\"en_XX\", tgt_lang=\"es_XX\")"
   ],
   "metadata": {
    "collapsed": false,
    "ExecuteTime": {
     "end_time": "2024-11-21T04:25:41.184293Z",
     "start_time": "2024-11-21T04:25:41.180793Z"
    }
   },
   "id": "cf3de26e13381422",
   "execution_count": 5
  },
  {
   "cell_type": "code",
   "outputs": [],
   "source": [
    "# max_length = 512\n",
    "# \n",
    "# def preprocess_text(text):\n",
    "#     inputs = [txt[\"en\"] for txt in text[\"translation\"]]\n",
    "#     targets = [txt[\"es\"] for txt in text[\"translation\"]]\n",
    "#     model_inputs = tokenizer(\n",
    "#         inputs, text_target=targets, max_length=max_length, truncation=True\n",
    "#     )\n",
    "#     return model_inputs"
   ],
   "metadata": {
    "collapsed": false,
    "ExecuteTime": {
     "end_time": "2024-11-21T04:25:41.184905Z",
     "start_time": "2024-11-21T04:25:41.182346Z"
    }
   },
   "id": "a0c4838f018e9f50",
   "execution_count": 6
  },
  {
   "cell_type": "code",
   "outputs": [],
   "source": [
    "# tokenized_datasets = split_dataset.map(\n",
    "#     preprocess_text,\n",
    "#     batched=True,\n",
    "#     remove_columns=split_dataset[\"train\"].column_names,\n",
    "# )"
   ],
   "metadata": {
    "collapsed": false,
    "ExecuteTime": {
     "end_time": "2024-11-21T04:25:41.193160Z",
     "start_time": "2024-11-21T04:25:41.183993Z"
    }
   },
   "id": "ab3152e3bbd659d",
   "execution_count": 7
  },
  {
   "cell_type": "code",
   "outputs": [],
   "source": [
    "#tokenized_datasets.save_to_disk(\"tokenized_dataset.hf\")"
   ],
   "metadata": {
    "collapsed": false,
    "ExecuteTime": {
     "end_time": "2024-11-21T04:25:41.193889Z",
     "start_time": "2024-11-21T04:25:41.186532Z"
    }
   },
   "id": "b04d5e51b3a51d02",
   "execution_count": 8
  },
  {
   "cell_type": "code",
   "outputs": [
    {
     "name": "stderr",
     "output_type": "stream",
     "text": [
      "[nltk_data] Downloading package punkt to\n",
      "[nltk_data]     /Users/marcogracie/nltk_data...\n",
      "[nltk_data]   Package punkt is already up-to-date!\n"
     ]
    }
   ],
   "source": [
    "import nltk\n",
    "nltk.download(\"punkt\")\n",
    "from nltk.tokenize import word_tokenize\n",
    "import csv"
   ],
   "metadata": {
    "collapsed": false,
    "ExecuteTime": {
     "end_time": "2024-11-21T04:25:43.565097Z",
     "start_time": "2024-11-21T04:25:41.190086Z"
    }
   },
   "id": "4df9cd28d3ca3e19",
   "execution_count": 9
  },
  {
   "cell_type": "code",
   "outputs": [
    {
     "data": {
      "text/plain": "Map:   0%|          | 0/49147400 [00:00<?, ? examples/s]",
      "application/vnd.jupyter.widget-view+json": {
       "version_major": 2,
       "version_minor": 0,
       "model_id": "efbb76c287f24c06bc1602810dadfc2c"
      }
     },
     "metadata": {},
     "output_type": "display_data"
    },
    {
     "data": {
      "text/plain": "Saving the dataset (0/18 shards):   0%|          | 0/49147400 [00:00<?, ? examples/s]",
      "application/vnd.jupyter.widget-view+json": {
       "version_major": 2,
       "version_minor": 0,
       "model_id": "fcc6d3e28a8142c7aad43ee703a5595e"
      }
     },
     "metadata": {},
     "output_type": "display_data"
    },
    {
     "data": {
      "text/plain": "Map:   0%|          | 0/12286851 [00:00<?, ? examples/s]",
      "application/vnd.jupyter.widget-view+json": {
       "version_major": 2,
       "version_minor": 0,
       "model_id": "c3252575974c470f81b139961e5ff3b3"
      }
     },
     "metadata": {},
     "output_type": "display_data"
    },
    {
     "data": {
      "text/plain": "Saving the dataset (0/5 shards):   0%|          | 0/12286851 [00:00<?, ? examples/s]",
      "application/vnd.jupyter.widget-view+json": {
       "version_major": 2,
       "version_minor": 0,
       "model_id": "d60b72de385047af9b0f6464e6637e13"
      }
     },
     "metadata": {},
     "output_type": "display_data"
    }
   ],
   "source": [
    "# Adding linear regression tokenizer\n",
    "def tokenize_batch(batch):\n",
    "    return {\"tokenized\": [word_tokenize(txt[\"en\"]) for txt in batch[\"translation\"]]}\n",
    "\n",
    "# Apply tokenization to the dataset and save\n",
    "tokenized_train = split_dataset[\"train\"].map(tokenize_batch, batched=True)\n",
    "tokenized_train.save_to_disk(\"encoded_inputs_train_linear_reg.hf\")\n",
    "\n",
    "tokenized_test = split_dataset[\"test\"].map(tokenize_batch, batched=True)\n",
    "tokenized_test.save_to_disk(\"encoded_inputs_test_linear_reg.hf\")"
   ],
   "metadata": {
    "collapsed": false,
    "ExecuteTime": {
     "end_time": "2024-11-21T12:25:31.477112Z",
     "start_time": "2024-11-21T04:25:43.563775Z"
    }
   },
   "id": "f3995851b68a28c0",
   "execution_count": 10
  },
  {
   "cell_type": "code",
   "outputs": [],
   "source": [
    "#data = load_from_disk(\"encoded_inputs_train_linear_reg\")"
   ],
   "metadata": {
    "collapsed": false,
    "ExecuteTime": {
     "end_time": "2024-11-21T12:25:31.480864Z",
     "start_time": "2024-11-21T12:25:31.478140Z"
    }
   },
   "id": "4d3d36bf02e58e24",
   "execution_count": 11
  }
 ],
 "metadata": {
  "kernelspec": {
   "display_name": "Python 3",
   "language": "python",
   "name": "python3"
  },
  "language_info": {
   "codemirror_mode": {
    "name": "ipython",
    "version": 2
   },
   "file_extension": ".py",
   "mimetype": "text/x-python",
   "name": "python",
   "nbconvert_exporter": "python",
   "pygments_lexer": "ipython2",
   "version": "2.7.6"
  }
 },
 "nbformat": 4,
 "nbformat_minor": 5
}
